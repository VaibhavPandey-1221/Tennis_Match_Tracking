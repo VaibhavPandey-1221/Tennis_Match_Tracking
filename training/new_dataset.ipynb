{
 "cells": [
  {
   "cell_type": "code",
   "execution_count": 2,
   "metadata": {},
   "outputs": [
    {
     "name": "stdout",
     "output_type": "stream",
     "text": [
      "Requirement already satisfied: opencv-python in c:\\users\\pande\\appdata\\roaming\\python\\python310\\site-packages (4.10.0.84)\n",
      "Requirement already satisfied: numpy>=1.21.2 in c:\\users\\pande\\appdata\\roaming\\python\\python310\\site-packages (from opencv-python) (2.1.2)\n"
     ]
    }
   ],
   "source": [
    "!pip install opencv-python\n"
   ]
  },
  {
   "cell_type": "code",
   "execution_count": null,
   "metadata": {},
   "outputs": [],
   "source": []
  },
  {
   "cell_type": "code",
   "execution_count": null,
   "metadata": {},
   "outputs": [],
   "source": [
    "import cv2\n",
    "import os\n",
    "\n",
    "def normalize_images(input_dir, output_dir):\n",
    "    \"\"\"Normalize images in the input directory and save them to the output directory.\"\"\"\n",
    "    if not os.path.exists(output_dir):\n",
    "        os.makedirs(output_dir)\n",
    "\n",
    "    for filename in os.listdir(input_dir):\n",
    "        if filename.endswith(\".jpg\") or filename.endswith(\".png\"):\n",
    "            img_path = os.path.join(input_dir, filename)\n",
    "            img = cv2.imread(img_path)\n",
    "            img_normalized = cv2.normalize(img, None, 0, 255, cv2.NORM_MINMAX)\n",
    "            img_normalized = img_normalized.astype('float32') / 255.0\n",
    "            cv2.imwrite(os.path.join(output_dir, filename), img_normalized * 255)\n",
    "\n",
    "\n",
    "train_images_dir = 'training/Tennis-match-1/train'  # Original training images directory\n",
    "val_images_dir = 'training/Tennis-match-1/valid'      # Original validation images directory\n",
    "normalized_train_dir = 'training/Tennis-match-2/train'  # Normalized training images directory\n",
    "normalized_val_dir = 'training/Tennis-match-2/valid'      # Normalized validation images directory\n",
    "\n",
    "\n",
    "normalize_images(train_images_dir, normalized_train_dir)\n",
    "normalize_images(val_images_dir, normalized_val_dir)\n",
    "\n",
    "print(\"Normalization process completed.\")\n"
   ]
  }
 ],
 "metadata": {
  "kernelspec": {
   "display_name": "yolov5",
   "language": "python",
   "name": "python3"
  },
  "language_info": {
   "codemirror_mode": {
    "name": "ipython",
    "version": 3
   },
   "file_extension": ".py",
   "mimetype": "text/x-python",
   "name": "python",
   "nbconvert_exporter": "python",
   "pygments_lexer": "ipython3",
   "version": "3.10.11"
  }
 },
 "nbformat": 4,
 "nbformat_minor": 2
}
